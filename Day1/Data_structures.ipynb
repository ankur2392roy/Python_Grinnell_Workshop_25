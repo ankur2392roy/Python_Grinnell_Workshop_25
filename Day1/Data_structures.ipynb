{
 "cells": [
  {
   "cell_type": "markdown",
   "id": "0c9e269d",
   "metadata": {},
   "source": [
    "### Important Python libraries\n"
   ]
  },
  {
   "cell_type": "code",
   "execution_count": 22,
   "id": "ae18e564",
   "metadata": {},
   "outputs": [],
   "source": [
    "import numpy as np\n",
    "import matplotlib.pyplot as plt\n",
    "import scipy as sci\n",
    "import pandas as pd\n",
    "import sys\n",
    "import os\n",
    "import time"
   ]
  },
  {
   "cell_type": "markdown",
   "id": "26746f94",
   "metadata": {},
   "source": [
    "### Data Structures : \n",
    "\n",
    "##### <span style=\"color:red\"> Way of organizing data so that it can be accessed more efficiently depending upon the situation. Data Structures are fundamentals of any programming language around which a program is built. Python helps to learn the fundamental of these data structures in a simpler way as compared to other programming languages. </span>"
   ]
  },
  {
   "cell_type": "markdown",
   "id": "f5671550",
   "metadata": {},
   "source": [
    "#### A) Lists : It is an ordered collection of data. It is very flexible as the items in a list do not need to be of the same type."
   ]
  },
  {
   "cell_type": "code",
   "execution_count": 51,
   "id": "cbac7eb5",
   "metadata": {},
   "outputs": [
    {
     "name": "stdout",
     "output_type": "stream",
     "text": [
      "[1, 2, 3, 4, 'abc']\n"
     ]
    }
   ],
   "source": [
    "list= [1,2,3,4,\"abc\"]\n",
    "print(list)\n",
    "#Accessing the  fourth element\n",
    "#print(list[3])\n",
    "\n",
    "# Accessing the last eleemnt form the list\n",
    "#print(list[-1])\n",
    "\n",
    "#Checking the type of data structure\n",
    "#print(type(list))\n",
    "\n",
    "#Checking the size(length) of the list\n",
    "#print(len(list))]\n",
    "\n",
    "#Find the max/min element in a list\n",
    "#print(max(list))"
   ]
  },
  {
   "cell_type": "markdown",
   "id": "ef1a2526",
   "metadata": {},
   "source": [
    "#### B) Arrays :  Arrays are used to store multiple values in a single variable. They can store elements of the same data type."
   ]
  },
  {
   "cell_type": "code",
   "execution_count": 52,
   "id": "9a854b24",
   "metadata": {},
   "outputs": [],
   "source": [
    "array=np.array([1,2,3,4,5])\n",
    "\n",
    "#Accessing the  fourth element\n",
    "#print(array[3])\n",
    "\n",
    "# Accessing the last eleemnt form the list\n",
    "#print(array[-1])\n",
    "\n",
    "#Checking the type of data structure\n",
    "#print(type(array))\n",
    "\n",
    "#Checking the size(length) of the list\n",
    "#print(len(array))"
   ]
  },
  {
   "cell_type": "markdown",
   "id": "cf8f8d10",
   "metadata": {},
   "source": [
    "#### Differences between lists and arrays"
   ]
  },
  {
   "cell_type": "code",
   "execution_count": 53,
   "id": "77c15b8c",
   "metadata": {},
   "outputs": [],
   "source": [
    "#Mathematical operations with lists and arrays\n",
    "# initial_list=[1,2,3,4]\n",
    "# new_list= 2* initial_list\n",
    "\n",
    "# print(new_list)\n",
    "\n",
    "# initial_array=np.array([1,2,3,4])\n",
    "# new_array= 2* initial_array\n",
    "# print(new_array)\n",
    "\n",
    "\n",
    "# #Dimensions\n",
    "\n",
    "# list_2d = [[1, 2, 3], \n",
    "#            [4, 5, 6]]\n",
    "# print(list_2d[0][1])  # Access: row 0, col 1\n",
    "\n",
    "\n",
    "# # Array - native multi-dimensional support\n",
    "# array_2d = np.array([[1, 2, 3], \n",
    "#                      [4, 5, 6]])\n",
    "\n",
    "# print(array_2d[0, 1])  \n",
    "# print(array_2d.shape)\n",
    "\n",
    "\n",
    "\n",
    "\n",
    "#Slicing differences\n",
    "\n",
    "# my_list = [1, 2, 3, 4, 5]\n",
    "# slice_list = my_list[1:4]\n",
    "# slice_list[0] = 999\n",
    "# print(my_list)       #this doesnt changed\n",
    "# print(slice_list)    \n",
    "\n",
    "# # Array slicing creates a view (not a copy)\n",
    "# my_array = np.array([1, 2, 3, 4, 5])\n",
    "# slice_array = my_array[1:4]\n",
    "# slice_array[0] = 999\n",
    "# print(my_array)    #this gets changed\n",
    "# print(slice_array)  \n",
    "\n",
    "\n",
    "\n",
    "#Interconversion\n",
    "#list_to_array = np.array(my_list)\n",
    "#array_to_list = my_array.tolist()\n"
   ]
  },
  {
   "cell_type": "markdown",
   "id": "f5b344e4",
   "metadata": {},
   "source": [
    "#### C) Tuples and Dictionaries"
   ]
  },
  {
   "cell_type": "code",
   "execution_count": 54,
   "id": "867cedff",
   "metadata": {},
   "outputs": [],
   "source": [
    "#Tuple: Much like a list but Tuples are immutable in nature i.e. the elements in the tuple cannot be added or removed once created.\n",
    "# Tuple = ('Geeks', 'For')\n",
    "# print(Tuple)\n",
    "# new_tuple=Tuple*2\n",
    "# print(new_tuple)\n",
    "\n",
    "\n",
    "#Dictionary: Unlike other Data Types that hold only a single value as an element, Dictionary holds the key:value pair.\n",
    "# Dict = {'Key': 'Value', 1: [1, 2, 3, 4]}\n",
    "# print(\"Creating Dictionary: \")\n",
    "# print(Dict)\n",
    "\n",
    "# print(\"Accessing a element using key:\") \n",
    "# print(Dict['Key']) \n",
    "\n",
    "# # accessing a element using get() \n",
    "# # method \n",
    "# print(\"Accessing a element using get:\") \n",
    "# print(Dict.get(1)) \n",
    "\n",
    "# # creation using Dictionary comprehension\n",
    "# myDict = {x: x**2 for x in [1,2,3,4,5]}\n",
    "# print(myDict)"
   ]
  },
  {
   "cell_type": "markdown",
   "id": "ae374aae",
   "metadata": {},
   "source": [
    "#### Removal of an element"
   ]
  },
  {
   "cell_type": "code",
   "execution_count": 58,
   "id": "c22ad9d4",
   "metadata": {},
   "outputs": [],
   "source": [
    "# LISTS\n",
    "# Removing by value\n",
    "# my_list = [10, 20, 30, 40, 50]\n",
    "# my_list.remove(30)\n",
    "# print(my_list)\n",
    "\n",
    "# #Removing by index\n",
    "# my_list = [10, 20, 30, 40, 50]\n",
    "# my_list.pop(2)  # removes element at index 2\n",
    "# print(my_list)\n",
    "\n",
    "\n",
    "# #ARRAYS\n",
    "# arr = np.array([10, 20, 30, 40, 50])\n",
    "# arr = np.delete(arr, 2)  # remove element at index 2\n",
    "# print(arr)"
   ]
  },
  {
   "cell_type": "markdown",
   "id": "e99b4d62",
   "metadata": {},
   "source": [
    "#### Insertion of elements"
   ]
  },
  {
   "cell_type": "code",
   "execution_count": 68,
   "id": "00c73c44",
   "metadata": {},
   "outputs": [
    {
     "name": "stdout",
     "output_type": "stream",
     "text": [
      "[10, 20, 25, 30, 40] None\n"
     ]
    }
   ],
   "source": [
    "#LISTS\n",
    "my_list = [10, 20, 30, 40]\n",
    "li=my_list.insert(2, 25)  # insert 25 at index 2\n",
    "print(my_list,li)\n",
    "\n",
    "\n",
    "# #ARRAYS\n",
    "# arr_original = np.array([10, 20, 30, 40])\n",
    "# arr1 = np.insert(arr_original, 2, 25)  # insert 25 at index 2\n",
    "# print(arr1)\n",
    "# #at the end\n",
    "# arr2=np.append(arr_original,50)\n",
    "# print(arr2)"
   ]
  },
  {
   "cell_type": "markdown",
   "id": "8b32801f",
   "metadata": {},
   "source": [
    "#### Activity (5 - 7 minutes)"
   ]
  },
  {
   "cell_type": "code",
   "execution_count": 69,
   "id": "94378d0b",
   "metadata": {},
   "outputs": [],
   "source": [
    "#Define a numeric list of 5 elements between the range 1-10\n",
    "\n",
    "\n",
    "#Slice the last 3 elements and store it in a new list\n",
    "\n",
    "\n",
    "# add 5 in the second index position, and 7 in the last position in the new list just created above\n",
    "\n",
    "\n",
    "# Change both the lists to arrays\n",
    "\n",
    "\n",
    "\n",
    "\n",
    "# Add both teh arrays and finally print the sum of all the elements in the arrys using `sum(array)`"
   ]
  }
 ],
 "metadata": {
  "kernelspec": {
   "display_name": "Python 3",
   "language": "python",
   "name": "python3"
  },
  "language_info": {
   "codemirror_mode": {
    "name": "ipython",
    "version": 3
   },
   "file_extension": ".py",
   "mimetype": "text/x-python",
   "name": "python",
   "nbconvert_exporter": "python",
   "pygments_lexer": "ipython3",
   "version": "3.13.1"
  }
 },
 "nbformat": 4,
 "nbformat_minor": 5
}
