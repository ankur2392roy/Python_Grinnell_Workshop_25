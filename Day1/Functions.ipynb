{
 "cells": [
  {
   "cell_type": "markdown",
   "id": "0c9e269d",
   "metadata": {},
   "source": [
    "### Important Python libraries\n"
   ]
  },
  {
   "cell_type": "code",
   "execution_count": 23,
   "id": "ae18e564",
   "metadata": {},
   "outputs": [],
   "source": [
    "import numpy as np\n",
    "import matplotlib.pyplot as plt\n",
    "import scipy as sci\n",
    "import pandas as pd\n",
    "import sys\n",
    "import os\n",
    "import time"
   ]
  },
  {
   "cell_type": "markdown",
   "id": "627f8e35",
   "metadata": {},
   "source": [
    "#### Functions: \n",
    "##### A function is a block of code which only runs when it is called.\n",
    "\n",
    "##### A function can return data as a result.\n",
    "\n",
    "##### A function helps avoiding code repetition.\n",
    "\n",
    "##### Example: def func_name(parameter,....)"
   ]
  },
  {
   "cell_type": "code",
   "execution_count": 6,
   "id": "5bb65d13",
   "metadata": {},
   "outputs": [],
   "source": [
    "#Three parts are defining a function, writing the body of teh function and finally calling the function\n",
    "\n",
    "# def greet(): #defining\n",
    "#     \"\"\" Display a greeting to users \"\"\"\n",
    "#     print('Hi')   #body of the function\n",
    "    \n",
    "# greet() #calling the fucntion\n",
    "\n",
    "\n",
    "\n",
    "\n",
    "# #With parameters\n",
    "# def greet(name):\n",
    "#     print(f\"Hi {name}\")\n",
    "    \n",
    "# first_name = 'Jane'\n",
    "# greet(first_name)\n",
    "\n",
    "\n",
    "\n",
    "\n",
    "# #With multiple parameters\n",
    "# def sum(a, b):\n",
    "#     return a + b\n",
    "\n",
    "\n",
    "# total = sum(10,20)\n",
    "# print(total)"
   ]
  },
  {
   "cell_type": "markdown",
   "id": "aad01e10",
   "metadata": {},
   "source": [
    "#### Scope of a function:\n",
    "##### Code in the global scope cannot use any local variables. However, a local scope can access global variables.\n"
   ]
  },
  {
   "cell_type": "code",
   "execution_count": 11,
   "id": "3a00b03c",
   "metadata": {},
   "outputs": [],
   "source": [
    "# global_var='I am global'\n",
    "\n",
    "# def func_name():\n",
    "#     print(global_var)\n",
    "#     local_var=\"I am local\"\n",
    "#     print(local_var)\n",
    "\n",
    "# func_name()\n",
    "\n",
    "# #try to print the local_var outside the scopr of the loop\n",
    "# print(local_var)"
   ]
  },
  {
   "cell_type": "markdown",
   "id": "a15dd135",
   "metadata": {},
   "source": [
    "#### Function Examples"
   ]
  },
  {
   "cell_type": "markdown",
   "id": "3558549f",
   "metadata": {},
   "source": [
    "##### Write a program to create a function func1() that accepts a variable number of arguments and prints each of their values"
   ]
  },
  {
   "cell_type": "code",
   "execution_count": 13,
   "id": "534954e0",
   "metadata": {},
   "outputs": [],
   "source": [
    "# def func1(*args): #allows to take any number of these parameters\n",
    "#   for arg in args:\n",
    "#     print(arg)\n",
    "\n",
    "# # Example calls to the function with different numbers of arguments\n",
    "# func1(10, 20)\n",
    "# func1(\"hello\", 3.14, True)\n",
    "# func1(1, 2, 3, 4, 5)\n",
    "# func1() "
   ]
  },
  {
   "cell_type": "markdown",
   "id": "3ea676d6",
   "metadata": {},
   "source": [
    "#### Recursive function: A recursive function is a function that calls itself repeatedly. \n",
    "##### Write a program to create a recursive function that calculates the sum of numbers from 0 to 10."
   ]
  },
  {
   "cell_type": "code",
   "execution_count": 15,
   "id": "d2cebb1f",
   "metadata": {},
   "outputs": [],
   "source": [
    "# def addition(num):\n",
    "#     if num:\n",
    "#         # call same function by reducing number by 1\n",
    "#         return num + addition(num - 1)\n",
    "#     else:\n",
    "#         return 0\n",
    "\n",
    "# res = addition(10)\n",
    "# print(res)"
   ]
  },
  {
   "cell_type": "markdown",
   "id": "a620127c",
   "metadata": {},
   "source": [
    "#### Anonymous function : lambda keyword\n",
    "\n",
    "##### Use a lambda with the filter() function to get all even numbers from a list\n",
    "##### given list, numbers = [1, 2, 3, 4, 5, 6, 7, 8, 9, 10]"
   ]
  },
  {
   "cell_type": "code",
   "execution_count": 18,
   "id": "b07886d6",
   "metadata": {},
   "outputs": [],
   "source": [
    "# numbers = [1, 2, 3, 4, 5, 6, 7, 8, 9, 10]\n",
    "# even_numbers = list(filter(lambda x: x % 2 == 0, numbers))\n",
    "# print(f\"The even numbers in the list are: {even_numbers}\")"
   ]
  },
  {
   "cell_type": "markdown",
   "id": "939d58ef",
   "metadata": {},
   "source": [
    "#### Activity(10 mins)\n",
    "\n"
   ]
  },
  {
   "cell_type": "code",
   "execution_count": 21,
   "id": "ab889b16",
   "metadata": {},
   "outputs": [],
   "source": [
    "# Write a Python function that prompts the user to enter a number. Then, given that number, \n",
    "# it prints the sentence \"Hello, Python!\" that many times.\n",
    "\n",
    "\n",
    "\n",
    "\n",
    "\n",
    "\n",
    "\n",
    "\n",
    "\n",
    "\n",
    "# Return a list with duplicates removed (preserving order).\n"
   ]
  },
  {
   "cell_type": "markdown",
   "id": "281a37d7",
   "metadata": {},
   "source": [
    "#### Finally, last part:\n",
    "#### <span style= 'color:red'>Pandas and dataframes : \n",
    "##### A Pandas DataFrame is a two-dimensional table-like structure in Python where data is arranged in rows and columns</span>"
   ]
  },
  {
   "cell_type": "code",
   "execution_count": 27,
   "id": "a085e1c6",
   "metadata": {},
   "outputs": [],
   "source": [
    "#Creating a dataframe\n",
    " \n",
    "# lst = ['A','B','C','D']\n",
    "\n",
    "# df = pd.DataFrame(lst)\n",
    "# print(df)\n",
    "\n",
    "\n",
    "\n",
    "# #Creating a dataframe from a dictionary\n",
    "# data = {'Name':['Tom', 'nick', 'krish', 'jack'],\n",
    "#         'Age':[20, 21, 19, 18]}\n",
    " \n",
    "# df = pd.DataFrame(data)\n",
    " \n",
    "# print(df)"
   ]
  },
  {
   "cell_type": "markdown",
   "id": "923269d7",
   "metadata": {},
   "source": [
    "##### Dataframe manipulation"
   ]
  },
  {
   "cell_type": "code",
   "execution_count": null,
   "id": "e7d548c5",
   "metadata": {},
   "outputs": [
    {
     "name": "stdout",
     "output_type": "stream",
     "text": [
      "Adhesive                Yes\n",
      "Bottom Temp              80\n",
      "Bottom Pressure        1000\n",
      "Supplier           Imperial\n",
      "Coating                  No\n",
      "Leaks                     0\n",
      "Name: 70, dtype: object\n"
     ]
    }
   ],
   "source": [
    "#Column Selection\n",
    "# data = {'Name':['John', 'Mark', 'Reed', 'Holly'],\n",
    "#         'Age':[27, 24, 22, 32],\n",
    "#         'Address':['NY','SF','Chicago','Denver'],\n",
    "#         'Qualification':['Msc', 'MA', 'MCA', 'Phd']}\n",
    " \n",
    "# df = pd.DataFrame(data)\n",
    "# print(df[['Name', 'Qualification']])\n",
    "\n",
    "\n",
    "# # Row selection\n",
    "# #reading data\n",
    "# data1= pd.read_csv(\"https://raw.githubusercontent.com/ankur2392roy/Python_Grinnell_Workshop_25/refs/heads/main/Day1/Cups.csv\",index_col=\"Side Temp\")\n",
    "\n",
    "# # first=data1.loc[70]\n",
    "# # print(first)\n",
    "\n",
    "\n",
    "# #Row selection using index number\n",
    "# row_data=data1.iloc[3]\n",
    "# print(row_data)\n",
    "\n",
    "\n",
    "# #Finding the column names\n",
    "# print(data1.columns)\n",
    "\n",
    "# #Checking missing data or null values\n",
    "# data1.isnull()\n",
    "\n",
    "\n",
    "\n",
    "#Dropping Missing values\n",
    "# dict = {'First Score':[100, 90, np.nan, 95],\n",
    "#         'Second Score': [30, np.nan, 45, 56],\n",
    "#         'Third Score':[52, 40, 80, 98],\n",
    "#         'Fourth Score':[np.nan, np.nan, np.nan, 65]}\n",
    " \n",
    "# df = pd.DataFrame(dict)\n",
    "   \n",
    "# df\n",
    "# df.dropna()\n",
    "\n",
    "\n",
    "#Write your dataframe to a csv\n",
    "# data = {'Name':['Tom', 'nick', 'krish', 'jack'],\n",
    "#         'Age':[20, 21, 19, 18]}\n",
    " \n",
    "# df = pd.DataFrame(data)\n",
    "# df.to_csv('out.csv',index=False)"
   ]
  },
  {
   "cell_type": "markdown",
   "id": "eff00813",
   "metadata": {},
   "source": [
    "#### Activity (7-10 mins)"
   ]
  },
  {
   "cell_type": "code",
   "execution_count": null,
   "id": "b96cfdcb",
   "metadata": {},
   "outputs": [],
   "source": [
    "\n",
    "# Get the first 3 rows of a given DataFrame\n",
    "\n",
    "# import pandas as pd\n",
    "# import numpy as np\n",
    "\n",
    "# exam_data  = {'name': ['Anastasia', 'Dima', 'Katherine', 'James', 'Emily', 'Michael', 'Matthew', 'Laura', 'Kevin', 'Jonas'],\n",
    "#         'score': [12.5, 9, 16.5, np.nan, 9, 20, 14.5, np.nan, 8, 19],\n",
    "#         'attempts': [1, 3, 2, 3, 2, 3, 1, 1, 2, 1],\n",
    "#         'qualify': ['yes', 'no', 'yes', 'no', 'no', 'yes', 'yes', 'no', 'no', 'yes']}\n",
    "# labels = ['a', 'b', 'c', 'd', 'e', 'f', 'g', 'h', 'i', 'j']\n",
    "\n",
    "# df = pd.DataFrame(exam_data , index=labels)\n",
    "# print(\"First three rows of the data frame:\")\n",
    "# #Add code here (Hint: Use the slicing indices concept)\n",
    "\n",
    "\n",
    "\n",
    "\n",
    "\n",
    "\n",
    "\n",
    "# #Select two specified columns from a given DataFrame : name and score\n",
    "# import pandas as pd\n",
    "# import numpy as np\n",
    "\n",
    "# cars_ata= read the Cars2.csv data\n",
    "\n",
    "# df = pd.DataFrame(cars_data)\n",
    "# print(\"Select specific columns:\")\n",
    "# #Add code here\n",
    "\n",
    "\n",
    "\n",
    "\n",
    "\n",
    "\n",
    "# #Count number of columns of a dataframe\n",
    "# d = {'col1': [1, 2, 3, 4, 7], 'col2': [4, 5, 6, 9, 5], 'col3': [7, 8, 12, 1, 11]}\n",
    "# df = pd.DataFrame(data=d)\n",
    "# print(\"Original DataFrame\")\n",
    "# print(df)\n",
    "# print(\"\\nNumber of columns:\")\n",
    "# #Add code here"
   ]
  }
 ],
 "metadata": {
  "kernelspec": {
   "display_name": "Python 3",
   "language": "python",
   "name": "python3"
  },
  "language_info": {
   "codemirror_mode": {
    "name": "ipython",
    "version": 3
   },
   "file_extension": ".py",
   "mimetype": "text/x-python",
   "name": "python",
   "nbconvert_exporter": "python",
   "pygments_lexer": "ipython3",
   "version": "3.13.1"
  }
 },
 "nbformat": 4,
 "nbformat_minor": 5
}
