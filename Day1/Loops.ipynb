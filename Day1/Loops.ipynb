{
 "cells": [
  {
   "cell_type": "markdown",
   "id": "0c9e269d",
   "metadata": {},
   "source": [
    "### Important Python libraries\n"
   ]
  },
  {
   "cell_type": "code",
   "execution_count": 4,
   "id": "ae18e564",
   "metadata": {},
   "outputs": [],
   "source": [
    "import numpy as np\n",
    "import matplotlib.pyplot as plt\n",
    "import scipy as sci\n",
    "import pandas as pd\n",
    "import sys\n",
    "import os\n",
    "import time"
   ]
  },
  {
   "cell_type": "markdown",
   "id": "3890f561",
   "metadata": {},
   "source": [
    "### Loops:\n",
    "\n",
    "#### <span style=\"color:red\">Loops in Python are used to repeat actions efficiently. The main types are For loops (counting through items) and While loops (based on conditions).</span>\n"
   ]
  },
  {
   "cell_type": "markdown",
   "id": "a8d5c6b2",
   "metadata": {},
   "source": [
    "#### A) For Loop: \n",
    "##### Used to iterate over a sequence such as alist, tuple, array etc."
   ]
  },
  {
   "cell_type": "code",
   "execution_count": 24,
   "id": "1d71369c",
   "metadata": {},
   "outputs": [],
   "source": [
    "#range function: runs from index 0 to n-1\n",
    "# n=4\n",
    "# for item in range(n):\n",
    "#     print(item)\n",
    "\n",
    "\n",
    "#arange function: [Start,stop, step_size]\n",
    "# for i in np.arange(1,4,2):\n",
    "#     print(i)\n",
    "\n",
    "#linspace function : [Start, Stop, number of elements]\n",
    "# for i in np.linspace(1,4,2):\n",
    "#     print(i)\n",
    "\n",
    "# # looping over a list and array\n",
    "# li=[12,3,4,5]\n",
    "# arr=np.array([2,3,4,6])\n",
    "\n",
    "# for i in li:\n",
    "#     print(\"The element in the list is {}\\n\".format(i))\n",
    "\n",
    "# for i in arr:\n",
    "#     print(\"The element in the array is {}\\n\".format(i))  \n",
    "\n",
    "\n",
    "\n",
    "# #Iterating over two arrays using two indices\n",
    "# for i,j in zip(range(len(arr)),arr): #remember len(arr) represents the length of the array returning a scalar\n",
    "#     print(\"The {}th element in the array is {}\\n\".format(i,j))  "
   ]
  },
  {
   "cell_type": "markdown",
   "id": "c466d5c9",
   "metadata": {},
   "source": [
    "#### While loop:\n",
    "##### <span style=\"color:red\"> A while loop is used to execute a block of statements repeatedly until a given condition is satisfied. When the condition becomes false, the line immediately after the loop in the program is executed.</span>"
   ]
  },
  {
   "cell_type": "code",
   "execution_count": 13,
   "id": "f644c5d1",
   "metadata": {},
   "outputs": [],
   "source": [
    "# cnt = 0 #initial counter index\n",
    "# name=''\n",
    "# while (cnt < 3): #setting up the condition logic\n",
    "#     cnt = cnt + 1\n",
    "#     print(\"Hello my name is {}\".format(name))"
   ]
  },
  {
   "cell_type": "markdown",
   "id": "b7aa168f",
   "metadata": {},
   "source": [
    "#### Nested Loops:\n",
    "#####  <span style='color:red'>Using one loop inside another loop which is called nested loop. Following example illustrates the concept. </span>"
   ]
  },
  {
   "cell_type": "code",
   "execution_count": 19,
   "id": "01999321",
   "metadata": {},
   "outputs": [],
   "source": [
    "# for i in range(3):         # outer loop\n",
    "#     for j in range(2):     # inner loop\n",
    "#         print(f\"i = {i}, j = {j}\")\n",
    "\n",
    "\n",
    "# colors = [\"red\", \"green\", \"blue\"]\n",
    "# shapes = [\"circle\", \"square\"]\n",
    "\n",
    "# for c in colors:\n",
    "#     for s in shapes:\n",
    "#         print(f\"{c} {s}\")\n"
   ]
  },
  {
   "cell_type": "markdown",
   "id": "c62b712b",
   "metadata": {},
   "source": [
    "#### If else condition:\n",
    "#####  <span style='color:red'>This allows you to check multiple conditions sequentially and execute a block of code as soon as one of the conditions is met.</span>"
   ]
  },
  {
   "cell_type": "code",
   "execution_count": 31,
   "id": "13f4edce",
   "metadata": {},
   "outputs": [],
   "source": [
    "#Checking if a number is postive or negative\n",
    "# number = int(input(\"Enter a number: \"))\n",
    "# if number > 0:\n",
    "#    print(\"Positive number\")\n",
    "# elif number < 0:\n",
    "#    print(\"Negative number\")\n",
    "# else:\n",
    "#    print(\"Zero\")\n",
    "\n",
    "\n",
    "\n",
    "#With logical operators\n",
    "# age = 30\n",
    "# salary = 5000\n",
    "# if age >= 30 and salary >= 5000: #Using and operator to check two conditions simultaneously\n",
    "#    print(\"Eligible for premium membership\")\n",
    "# else:\n",
    "#    print(\"Not eligible for premium membership\")\n",
    "\n"
   ]
  },
  {
   "cell_type": "markdown",
   "id": "fa5379c8",
   "metadata": {},
   "source": [
    "#### Continue/Break clause"
   ]
  },
  {
   "cell_type": "code",
   "execution_count": 30,
   "id": "5cf0c074",
   "metadata": {},
   "outputs": [],
   "source": [
    "#break statement is used to terminate the loop when a certain condition is met.\n",
    "\n",
    "# for i in range(5):\n",
    "#     if i == 3:\n",
    "#         break\n",
    "#     print(i)\n",
    "\n",
    "# #continue statement skips the current iteration of the loop and the control flow of the program goes to the next iteration.\n",
    "# for i in range(5):\n",
    "#     if i == 3:\n",
    "#         continue #will not print 3 as it will skip that particular iteration of the loop\n",
    "#     print(i)"
   ]
  },
  {
   "cell_type": "markdown",
   "id": "6497d64d",
   "metadata": {},
   "source": [
    "#### Example of a code:\n"
   ]
  },
  {
   "cell_type": "code",
   "execution_count": null,
   "id": "3659eb50",
   "metadata": {},
   "outputs": [
    {
     "name": "stdout",
     "output_type": "stream",
     "text": [
      "2+22+222+2222+22222+\n",
      "Sum of above series is: 24690\n"
     ]
    }
   ],
   "source": [
    "#Find the sum of a series of a number up to n terms given num=2 , terms=5. So, \n",
    "# for example, if the number is 2 and the number of terms is 5, then the series will be 2+22+222+2222+22222=2469\n",
    "\n",
    "# terms = 5\n",
    "# # first number of sequence\n",
    "# num = 2\n",
    "# sum_seq = 0\n",
    "\n",
    "# # run loop n times\n",
    "# for i in range(0, terms):\n",
    "#     print(num, end=\"+\")\n",
    "#     sum_seq += num\n",
    "#     # calculate the next term\n",
    "#     num = num * 10 + 2\n",
    "# print(\"\\nSum of above series is:\", sum_seq)\n"
   ]
  },
  {
   "cell_type": "markdown",
   "id": "e19a3506",
   "metadata": {},
   "source": [
    "#### Activity (5-6 mins)"
   ]
  },
  {
   "cell_type": "code",
   "execution_count": null,
   "id": "e62b1949",
   "metadata": {},
   "outputs": [],
   "source": [
    "# Print multiplication table of a given number like for n=2 , you want to print \n",
    "# 2\n",
    "# 4\n",
    "# 6\n",
    "# 8  up to 20\n",
    "\n",
    "\n",
    "\n",
    "\n",
    "\n",
    "\n",
    "\n",
    "\n",
    "\n",
    "\n",
    "# Display numbers from a list using a loop satisfying the following conditions:\n",
    "\n",
    "# The number must be divisible by five . (You can do this by item % 5 == 0 to check for divisibility condition)\n",
    "# If the number is greater than 150, then skip it and move to the following number\n",
    "# If the number is greater than 500, then stop the loop\n",
    "\n",
    "# numbers = [12, 75, 150, 180, 145, 525, 50]"
   ]
  }
 ],
 "metadata": {
  "kernelspec": {
   "display_name": "Python 3",
   "language": "python",
   "name": "python3"
  },
  "language_info": {
   "codemirror_mode": {
    "name": "ipython",
    "version": 3
   },
   "file_extension": ".py",
   "mimetype": "text/x-python",
   "name": "python",
   "nbconvert_exporter": "python",
   "pygments_lexer": "ipython3",
   "version": "3.13.1"
  }
 },
 "nbformat": 4,
 "nbformat_minor": 5
}
