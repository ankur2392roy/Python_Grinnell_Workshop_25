{
 "cells": [
  {
   "cell_type": "markdown",
   "id": "0c9e269d",
   "metadata": {},
   "source": [
    "### Important Python libraries\n"
   ]
  },
  {
   "cell_type": "code",
   "execution_count": 1,
   "id": "ae18e564",
   "metadata": {},
   "outputs": [],
   "source": [
    "import numpy as np\n",
    "import matplotlib.pyplot as plt\n",
    "import scipy as sci\n",
    "import pandas as pd\n",
    "import sys\n",
    "import os\n",
    "import time"
   ]
  },
  {
   "cell_type": "markdown",
   "id": "281a37d7",
   "metadata": {},
   "source": [
    "\n",
    "#### <span style= 'color:red'>Pandas and dataframes : \n",
    "##### A Pandas DataFrame is a two-dimensional table-like structure in Python where data is arranged in rows and columns</span>"
   ]
  },
  {
   "cell_type": "code",
   "execution_count": 27,
   "id": "a085e1c6",
   "metadata": {},
   "outputs": [],
   "source": [
    "#Creating a dataframe\n",
    " \n",
    "# lst = ['A','B','C','D']\n",
    "\n",
    "# df = pd.DataFrame(lst)\n",
    "# print(df)\n",
    "\n",
    "\n",
    "\n",
    "# #Creating a dataframe from a dictionary\n",
    "# data = {'Name':['Tom', 'nick', 'krish', 'jack'],\n",
    "#         'Age':[20, 21, 19, 18]}\n",
    " \n",
    "# df = pd.DataFrame(data)\n",
    " \n",
    "# print(df)"
   ]
  },
  {
   "cell_type": "markdown",
   "id": "923269d7",
   "metadata": {},
   "source": [
    "##### Dataframe manipulation"
   ]
  },
  {
   "cell_type": "code",
   "execution_count": null,
   "id": "e7d548c5",
   "metadata": {},
   "outputs": [
    {
     "name": "stdout",
     "output_type": "stream",
     "text": [
      "Adhesive                Yes\n",
      "Bottom Temp              80\n",
      "Bottom Pressure        1000\n",
      "Supplier           Imperial\n",
      "Coating                  No\n",
      "Leaks                     0\n",
      "Name: 70, dtype: object\n"
     ]
    }
   ],
   "source": [
    "#Column Selection\n",
    "# data = {'Name':['John', 'Mark', 'Reed', 'Holly'],\n",
    "#         'Age':[27, 24, 22, 32],\n",
    "#         'Address':['NY','SF','Chicago','Denver'],\n",
    "#         'Qualification':['Msc', 'MA', 'MCA', 'Phd']}\n",
    " \n",
    "# df = pd.DataFrame(data)\n",
    "# print(df[['Name', 'Qualification']])\n",
    "\n",
    "\n",
    "# # Row selection\n",
    "# #reading data\n",
    "# data1= pd.read_csv(\"https://raw.githubusercontent.com/ankur2392roy/Python_Grinnell_Workshop_25/refs/heads/main/Day1/Cups.csv\",index_col=\"Side Temp\")\n",
    "\n",
    "# # first=data1.loc[70]\n",
    "# # print(first)\n",
    "\n",
    "\n",
    "# #Row selection using index number\n",
    "# row_data=data1.iloc[3]\n",
    "# print(row_data)\n",
    "\n",
    "\n",
    "# #Finding the column names\n",
    "# print(data1.columns)\n",
    "\n",
    "# #Checking missing data or null values\n",
    "# data1.isnull()\n",
    "\n",
    "\n",
    "\n",
    "#Dropping Missing values\n",
    "# dict = {'First Score':[100, 90, np.nan, 95],\n",
    "#         'Second Score': [30, np.nan, 45, 56],\n",
    "#         'Third Score':[52, 40, 80, 98],\n",
    "#         'Fourth Score':[np.nan, np.nan, np.nan, 65]}\n",
    " \n",
    "# df = pd.DataFrame(dict)\n",
    "   \n",
    "# df\n",
    "# df.dropna()\n",
    "\n",
    "\n",
    "#Write your dataframe to a csv\n",
    "# data = {'Name':['Tom', 'nick', 'krish', 'jack'],\n",
    "#         'Age':[20, 21, 19, 18]}\n",
    " \n",
    "# df = pd.DataFrame(data)\n",
    "# df.to_csv('out.csv',index=False)"
   ]
  },
  {
   "cell_type": "markdown",
   "id": "eff00813",
   "metadata": {},
   "source": [
    "#### Activity (7-10 mins)"
   ]
  },
  {
   "cell_type": "code",
   "execution_count": null,
   "id": "b96cfdcb",
   "metadata": {},
   "outputs": [],
   "source": [
    "\n",
    "# Get the first 3 rows of a given DataFrame\n",
    "\n",
    "# import pandas as pd\n",
    "# import numpy as np\n",
    "\n",
    "# exam_data  = {'name': ['Anastasia', 'Dima', 'Katherine', 'James', 'Emily', 'Michael', 'Matthew', 'Laura', 'Kevin', 'Jonas'],\n",
    "#         'score': [12.5, 9, 16.5, np.nan, 9, 20, 14.5, np.nan, 8, 19],\n",
    "#         'attempts': [1, 3, 2, 3, 2, 3, 1, 1, 2, 1],\n",
    "#         'qualify': ['yes', 'no', 'yes', 'no', 'no', 'yes', 'yes', 'no', 'no', 'yes']}\n",
    "# labels = ['a', 'b', 'c', 'd', 'e', 'f', 'g', 'h', 'i', 'j']\n",
    "\n",
    "# df = pd.DataFrame(exam_data , index=labels)\n",
    "# print(\"First three rows of the data frame:\")\n",
    "# #Add code here (Hint: Use the slicing indices concept)\n",
    "\n",
    "\n",
    "\n",
    "\n",
    "\n",
    "\n",
    "\n",
    "# #Select two specified columns from a given DataFrame : name and score\n",
    "# import pandas as pd\n",
    "# import numpy as np\n",
    "\n",
    "# cars_ata= read the Cars2.csv data\n",
    "\n",
    "# df = pd.DataFrame(cars_data)\n",
    "# print(\"Select specific columns:\")\n",
    "# #Add code here\n",
    "\n",
    "\n",
    "\n",
    "\n",
    "\n",
    "\n",
    "# #Count number of columns of a dataframe\n",
    "# d = {'col1': [1, 2, 3, 4, 7], 'col2': [4, 5, 6, 9, 5], 'col3': [7, 8, 12, 1, 11]}\n",
    "# df = pd.DataFrame(data=d)\n",
    "# print(\"Original DataFrame\")\n",
    "# print(df)\n",
    "# print(\"\\nNumber of columns:\")\n",
    "# #Add code here"
   ]
  }
 ],
 "metadata": {
  "kernelspec": {
   "display_name": "Python 3 (ipykernel)",
   "language": "python",
   "name": "python3"
  },
  "language_info": {
   "codemirror_mode": {
    "name": "ipython",
    "version": 3
   },
   "file_extension": ".py",
   "mimetype": "text/x-python",
   "name": "python",
   "nbconvert_exporter": "python",
   "pygments_lexer": "ipython3",
   "version": "3.11.7"
  }
 },
 "nbformat": 4,
 "nbformat_minor": 5
}
