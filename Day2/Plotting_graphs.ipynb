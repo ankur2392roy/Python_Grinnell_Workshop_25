{
 "cells": [
  {
   "cell_type": "markdown",
   "id": "0c9e269d",
   "metadata": {},
   "source": [
    "### Important Python libraries\n"
   ]
  },
  {
   "cell_type": "code",
   "execution_count": 1,
   "id": "ae18e564",
   "metadata": {},
   "outputs": [],
   "source": [
    "import numpy as np\n",
    "import matplotlib.pyplot as plt\n",
    "import scipy as sci\n",
    "import pandas as pd\n",
    "import sys\n",
    "import os\n",
    "import time"
   ]
  },
  {
   "cell_type": "markdown",
   "id": "f3a9028b",
   "metadata": {},
   "source": [
    "#### PLotting graphs and figures in Python\n",
    "##### <span style=\"color:red\"> We will be using the plot() function from the matplotlib library to create informative plots and figures in Python </span>"
   ]
  },
  {
   "cell_type": "markdown",
   "id": "118c39c0",
   "metadata": {},
   "source": [
    "#### Plotting x and y points : The function takes parameters for specifying points in the diagram. Parameter 1 is an array containing the points on the x-axis. Parameter 2 is an array containing the points on the y-axis."
   ]
  },
  {
   "cell_type": "code",
   "execution_count": 4,
   "id": "324f03e5",
   "metadata": {},
   "outputs": [],
   "source": [
    "# #Example of plotting with plot(). We are plotting a line from (1,3) to (8,10)\n",
    "\n",
    "# xpoints = np.array([1, 8])\n",
    "# ypoints = np.array([3, 10])\n",
    "\n",
    "# plt.plot(xpoints, ypoints)\n",
    "# plt.show()"
   ]
  },
  {
   "cell_type": "markdown",
   "id": "87182340",
   "metadata": {},
   "source": [
    "#### Plotting without line"
   ]
  },
  {
   "cell_type": "code",
   "execution_count": 5,
   "id": "0aa134a4",
   "metadata": {},
   "outputs": [],
   "source": [
    "# xpoints = np.array([1, 8])\n",
    "# ypoints = np.array([3, 10])\n",
    "\n",
    "# plt.plot(xpoints, ypoints, 'o')\n",
    "# plt.show()"
   ]
  },
  {
   "cell_type": "code",
   "execution_count": 7,
   "id": "60d735e5",
   "metadata": {},
   "outputs": [],
   "source": [
    "# #Plotting with multiple points\n",
    "\n",
    "# xpoints = np.array([1, 2, 6, 8])\n",
    "# ypoints = np.array([3, 8, 1, 10])\n",
    "\n",
    "# plt.plot(xpoints, ypoints)\n",
    "# plt.show()"
   ]
  },
  {
   "cell_type": "markdown",
   "id": "66cab209",
   "metadata": {},
   "source": [
    "#### Additional plotting customizations"
   ]
  },
  {
   "cell_type": "code",
   "execution_count": 11,
   "id": "a428e960",
   "metadata": {},
   "outputs": [],
   "source": [
    "# x = [1, 2, 3, 4, 5]\n",
    "# y = [2, 4, 6, 8, 10]\n",
    "\n",
    "# plt.plot(x, y, marker='o', linestyle='--', color='red',label='Data Points') #marker shape, style of line connecting the dots,\n",
    "# # color of the points, label the data points\n",
    "# plt.title('Simple Plot with Markers')\n",
    "# plt.xlabel('X-axis')\n",
    "# plt.ylabel('Y-axis')\n",
    "# plt.legend()\n",
    "# plt.show()"
   ]
  },
  {
   "cell_type": "markdown",
   "id": "68e8b588",
   "metadata": {},
   "source": [
    "#### Creating Subplots in Matplotlib"
   ]
  },
  {
   "cell_type": "code",
   "execution_count": 16,
   "id": "e4e459c7",
   "metadata": {},
   "outputs": [],
   "source": [
    "# # Creating subplots\n",
    "# fig, ax = plt.subplots(2, 2)\n",
    "\n",
    "# # Generating data\n",
    "# x = np.linspace(0, 10, 1000)\n",
    "\n",
    "# # Plot functions with different styles\n",
    "# ax[0,0].plot(x, np.sin(x), 'r-.', label='sin(x)')\n",
    "# ax[0,1].plot(x, np.cos(x), 'g--', label='cos(x)')\n",
    "# ax[1, 0].plot(x, np.tan(x), 'y-', label='tan(x)')\n",
    "# ax[1, 1].plot(x, np.sinc(x), 'c.-', label='sinc(x)')\n",
    "\n",
    "# # Adding legends and showing the figure\n",
    "# for axes in ax.flat:\n",
    "#     axes.legend()\n",
    "# plt.tight_layout()\n",
    "# plt.show()"
   ]
  },
  {
   "cell_type": "markdown",
   "id": "7c86b159",
   "metadata": {},
   "source": [
    "#### Types of Data Visualizations in Matplotlib\n",
    "\n",
    "##### 1. Bar Plot"
   ]
  },
  {
   "cell_type": "code",
   "execution_count": 33,
   "id": "383382e2",
   "metadata": {},
   "outputs": [],
   "source": [
    "# data = {'Category': ['A', 'B', 'C', 'D'], 'Values': [20, 34, 30, 35]} #This is a dictionary (key-value pair)\n",
    "# df = pd.DataFrame(data)\n",
    "\n",
    "# plt.bar(df['Category'], df['Values'], color='skyblue')  # for bar plot\n",
    "# plt.xlabel(\"Category\")\n",
    "# plt.ylabel(\"Values\")\n",
    "# plt.title(\"Bar Chart Example\")\n",
    "# plt.show()"
   ]
  },
  {
   "cell_type": "markdown",
   "id": "7e0ecfcf",
   "metadata": {},
   "source": [
    "##### 2. Histogram"
   ]
  },
  {
   "cell_type": "code",
   "execution_count": 34,
   "id": "22ccd0c5",
   "metadata": {},
   "outputs": [],
   "source": [
    "# df = pd.DataFrame({'Values': [12, 23, 45, 36, 56, 78, 89, 95, 110, 130]})\n",
    "\n",
    "# plt.hist(df['Values'], bins=5, color='lightcoral', edgecolor='black')\n",
    "# plt.xlabel(\"Value Range\")\n",
    "# plt.ylabel(\"Frequency\")\n",
    "# plt.title(\"Histogram Example\")\n",
    "# plt.show()"
   ]
  },
  {
   "cell_type": "markdown",
   "id": "5d7110d5",
   "metadata": {},
   "source": [
    "#### Analyzing a dataset with plots"
   ]
  },
  {
   "cell_type": "code",
   "execution_count": 35,
   "id": "a3c671c0",
   "metadata": {},
   "outputs": [],
   "source": [
    "#Reading the dataset as a dataframe\n",
    "#data= pd.read_csv(\"C:/Users/royankur/OneDrive - Grinnell College/Desktop/Python_workshop/Day2/Cups.csv\")\n",
    "\n",
    "\n",
    "#print out the first five rows of the dataframe\n",
    "#print(data.head())\n",
    "\n",
    "\n",
    "#print the column headers\n",
    "#print(data.columns)\n",
    "\n",
    "\n",
    "\n",
    "# #Checking if there any missing values\n",
    "# data.isnull()\n",
    "\n",
    "\n",
    "\n",
    "#Creating barplot between two categories\n",
    "#plt.bar(data['Side Temp'], data['Bottom Pressure'], color='skyblue')  \n",
    "\n",
    "\n",
    "#Creating a histogram for the category 'Bottom Pressure'ArithmeticError\n",
    "#plt.hist(data['Bottom Pressure'], bins=5, color='lightcoral', edgecolor='black')"
   ]
  },
  {
   "cell_type": "markdown",
   "id": "5a6cf04c",
   "metadata": {},
   "source": [
    "#### Activity (10-20 mins)"
   ]
  },
  {
   "cell_type": "code",
   "execution_count": null,
   "id": "4d473705",
   "metadata": {},
   "outputs": [
    {
     "ename": "SyntaxError",
     "evalue": "invalid syntax (1325195567.py, line 3)",
     "output_type": "error",
     "traceback": [
      "\u001b[1;36m  Cell \u001b[1;32mIn[36], line 3\u001b[1;36m\u001b[0m\n\u001b[1;33m    1. First read the dataset into a dataframe\u001b[0m\n\u001b[1;37m       ^\u001b[0m\n\u001b[1;31mSyntaxError\u001b[0m\u001b[1;31m:\u001b[0m invalid syntax\n"
     ]
    }
   ],
   "source": [
    "#For this activity use the Bridnest dataset\n",
    "\n",
    "# 1. First read the dataset into a dataframe\n",
    "# 2. Check for null or missing values\n",
    "# 3. Drop the missing values using teh dropna() function\n",
    "# 4. Plot a barplot between Species and Length columns\n",
    "# 5. Plot a line plot between Length and No.eggs column\n",
    "# 6. What conclusions can you draw?"
   ]
  }
 ],
 "metadata": {
  "kernelspec": {
   "display_name": "Python 3",
   "language": "python",
   "name": "python3"
  },
  "language_info": {
   "codemirror_mode": {
    "name": "ipython",
    "version": 3
   },
   "file_extension": ".py",
   "mimetype": "text/x-python",
   "name": "python",
   "nbconvert_exporter": "python",
   "pygments_lexer": "ipython3",
   "version": "3.13.1"
  }
 },
 "nbformat": 4,
 "nbformat_minor": 5
}
